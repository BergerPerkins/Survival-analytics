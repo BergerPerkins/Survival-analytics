{
 "cells": [
  {
   "cell_type": "markdown",
   "id": "b5281a34",
   "metadata": {},
   "source": [
    "# Problem - 1"
   ]
  },
  {
   "cell_type": "markdown",
   "id": "6d91ba8b",
   "metadata": {},
   "source": [
    "### The following dataset contains patient ID, follow up, event type, and scenarios. Build a survival analysis model on the given data."
   ]
  },
  {
   "cell_type": "code",
   "execution_count": 1,
   "id": "8ed2e6d9",
   "metadata": {},
   "outputs": [],
   "source": [
    "#importing required libraries\n",
    "import numpy as np\n",
    "import pandas as pd"
   ]
  },
  {
   "cell_type": "code",
   "execution_count": 2,
   "id": "aeba8f75",
   "metadata": {},
   "outputs": [
    {
     "data": {
      "text/html": [
       "<div>\n",
       "<style scoped>\n",
       "    .dataframe tbody tr th:only-of-type {\n",
       "        vertical-align: middle;\n",
       "    }\n",
       "\n",
       "    .dataframe tbody tr th {\n",
       "        vertical-align: top;\n",
       "    }\n",
       "\n",
       "    .dataframe thead th {\n",
       "        text-align: right;\n",
       "    }\n",
       "</style>\n",
       "<table border=\"1\" class=\"dataframe\">\n",
       "  <thead>\n",
       "    <tr style=\"text-align: right;\">\n",
       "      <th></th>\n",
       "      <th>PatientID</th>\n",
       "      <th>Followup</th>\n",
       "      <th>Eventtype</th>\n",
       "      <th>Scenario</th>\n",
       "    </tr>\n",
       "  </thead>\n",
       "  <tbody>\n",
       "    <tr>\n",
       "      <th>0</th>\n",
       "      <td>John</td>\n",
       "      <td>1.0</td>\n",
       "      <td>1</td>\n",
       "      <td>A</td>\n",
       "    </tr>\n",
       "    <tr>\n",
       "      <th>1</th>\n",
       "      <td>Jess</td>\n",
       "      <td>2.0</td>\n",
       "      <td>1</td>\n",
       "      <td>A</td>\n",
       "    </tr>\n",
       "    <tr>\n",
       "      <th>2</th>\n",
       "      <td>Ann</td>\n",
       "      <td>3.0</td>\n",
       "      <td>0</td>\n",
       "      <td>A</td>\n",
       "    </tr>\n",
       "    <tr>\n",
       "      <th>3</th>\n",
       "      <td>Mary</td>\n",
       "      <td>4.0</td>\n",
       "      <td>0</td>\n",
       "      <td>A</td>\n",
       "    </tr>\n",
       "    <tr>\n",
       "      <th>4</th>\n",
       "      <td>Frank</td>\n",
       "      <td>5.0</td>\n",
       "      <td>1</td>\n",
       "      <td>A</td>\n",
       "    </tr>\n",
       "    <tr>\n",
       "      <th>5</th>\n",
       "      <td>Steven</td>\n",
       "      <td>6.0</td>\n",
       "      <td>1</td>\n",
       "      <td>A</td>\n",
       "    </tr>\n",
       "    <tr>\n",
       "      <th>6</th>\n",
       "      <td>Andy</td>\n",
       "      <td>6.2</td>\n",
       "      <td>1</td>\n",
       "      <td>A</td>\n",
       "    </tr>\n",
       "    <tr>\n",
       "      <th>7</th>\n",
       "      <td>Elizabeth</td>\n",
       "      <td>8.0</td>\n",
       "      <td>0</td>\n",
       "      <td>A</td>\n",
       "    </tr>\n",
       "    <tr>\n",
       "      <th>8</th>\n",
       "      <td>Joe</td>\n",
       "      <td>9.0</td>\n",
       "      <td>1</td>\n",
       "      <td>A</td>\n",
       "    </tr>\n",
       "    <tr>\n",
       "      <th>9</th>\n",
       "      <td>Kate</td>\n",
       "      <td>10.0</td>\n",
       "      <td>0</td>\n",
       "      <td>A</td>\n",
       "    </tr>\n",
       "  </tbody>\n",
       "</table>\n",
       "</div>"
      ],
      "text/plain": [
       "   PatientID  Followup  Eventtype Scenario\n",
       "0       John       1.0          1        A\n",
       "1       Jess       2.0          1        A\n",
       "2        Ann       3.0          0        A\n",
       "3       Mary       4.0          0        A\n",
       "4      Frank       5.0          1        A\n",
       "5     Steven       6.0          1        A\n",
       "6       Andy       6.2          1        A\n",
       "7  Elizabeth       8.0          0        A\n",
       "8        Joe       9.0          1        A\n",
       "9       Kate      10.0          0        A"
      ]
     },
     "execution_count": 2,
     "metadata": {},
     "output_type": "execute_result"
    }
   ],
   "source": [
    "#reading the data into  python\n",
    "patient = pd.read_csv(r\"D:\\360 Data Science 360DigiTMG\\Day38-Survival Analytics\\Datasets_Survival Analytics\\Patient.csv\")\n",
    "patient"
   ]
  },
  {
   "cell_type": "code",
   "execution_count": 3,
   "id": "027b3e6c",
   "metadata": {},
   "outputs": [
    {
     "data": {
      "text/html": [
       "<div>\n",
       "<style scoped>\n",
       "    .dataframe tbody tr th:only-of-type {\n",
       "        vertical-align: middle;\n",
       "    }\n",
       "\n",
       "    .dataframe tbody tr th {\n",
       "        vertical-align: top;\n",
       "    }\n",
       "\n",
       "    .dataframe thead th {\n",
       "        text-align: right;\n",
       "    }\n",
       "</style>\n",
       "<table border=\"1\" class=\"dataframe\">\n",
       "  <thead>\n",
       "    <tr style=\"text-align: right;\">\n",
       "      <th></th>\n",
       "      <th>Followup</th>\n",
       "      <th>Eventtype</th>\n",
       "    </tr>\n",
       "  </thead>\n",
       "  <tbody>\n",
       "    <tr>\n",
       "      <th>count</th>\n",
       "      <td>10.000000</td>\n",
       "      <td>10.000000</td>\n",
       "    </tr>\n",
       "    <tr>\n",
       "      <th>mean</th>\n",
       "      <td>5.420000</td>\n",
       "      <td>0.600000</td>\n",
       "    </tr>\n",
       "    <tr>\n",
       "      <th>std</th>\n",
       "      <td>2.993994</td>\n",
       "      <td>0.516398</td>\n",
       "    </tr>\n",
       "    <tr>\n",
       "      <th>min</th>\n",
       "      <td>1.000000</td>\n",
       "      <td>0.000000</td>\n",
       "    </tr>\n",
       "    <tr>\n",
       "      <th>25%</th>\n",
       "      <td>3.250000</td>\n",
       "      <td>0.000000</td>\n",
       "    </tr>\n",
       "    <tr>\n",
       "      <th>50%</th>\n",
       "      <td>5.500000</td>\n",
       "      <td>1.000000</td>\n",
       "    </tr>\n",
       "    <tr>\n",
       "      <th>75%</th>\n",
       "      <td>7.550000</td>\n",
       "      <td>1.000000</td>\n",
       "    </tr>\n",
       "    <tr>\n",
       "      <th>max</th>\n",
       "      <td>10.000000</td>\n",
       "      <td>1.000000</td>\n",
       "    </tr>\n",
       "  </tbody>\n",
       "</table>\n",
       "</div>"
      ],
      "text/plain": [
       "        Followup  Eventtype\n",
       "count  10.000000  10.000000\n",
       "mean    5.420000   0.600000\n",
       "std     2.993994   0.516398\n",
       "min     1.000000   0.000000\n",
       "25%     3.250000   0.000000\n",
       "50%     5.500000   1.000000\n",
       "75%     7.550000   1.000000\n",
       "max    10.000000   1.000000"
      ]
     },
     "execution_count": 3,
     "metadata": {},
     "output_type": "execute_result"
    }
   ],
   "source": [
    "#eda or statistical analysis\n",
    "patient.describe()"
   ]
  },
  {
   "cell_type": "code",
   "execution_count": 4,
   "id": "9de7917a",
   "metadata": {},
   "outputs": [
    {
     "data": {
      "text/plain": [
       "Index(['PatientID', 'Followup', 'Eventtype', 'Scenario'], dtype='object')"
      ]
     },
     "execution_count": 4,
     "metadata": {},
     "output_type": "execute_result"
    }
   ],
   "source": [
    "#columns of the data\n",
    "patient.columns"
   ]
  },
  {
   "cell_type": "code",
   "execution_count": 5,
   "id": "ac2b7e8f",
   "metadata": {},
   "outputs": [
    {
     "data": {
      "text/plain": [
       "count    10.000000\n",
       "mean      5.420000\n",
       "std       2.993994\n",
       "min       1.000000\n",
       "25%       3.250000\n",
       "50%       5.500000\n",
       "75%       7.550000\n",
       "max      10.000000\n",
       "Name: Followup, dtype: float64"
      ]
     },
     "execution_count": 5,
     "metadata": {},
     "output_type": "execute_result"
    }
   ],
   "source": [
    "patient.Followup.describe()"
   ]
  },
  {
   "cell_type": "code",
   "execution_count": 6,
   "id": "f3c06d3a",
   "metadata": {},
   "outputs": [
    {
     "data": {
      "text/html": [
       "<div>\n",
       "<style scoped>\n",
       "    .dataframe tbody tr th:only-of-type {\n",
       "        vertical-align: middle;\n",
       "    }\n",
       "\n",
       "    .dataframe tbody tr th {\n",
       "        vertical-align: top;\n",
       "    }\n",
       "\n",
       "    .dataframe thead th {\n",
       "        text-align: right;\n",
       "    }\n",
       "</style>\n",
       "<table border=\"1\" class=\"dataframe\">\n",
       "  <thead>\n",
       "    <tr style=\"text-align: right;\">\n",
       "      <th></th>\n",
       "      <th>Followup</th>\n",
       "      <th>Eventtype</th>\n",
       "      <th>Scenario</th>\n",
       "    </tr>\n",
       "  </thead>\n",
       "  <tbody>\n",
       "    <tr>\n",
       "      <th>0</th>\n",
       "      <td>1.0</td>\n",
       "      <td>1</td>\n",
       "      <td>A</td>\n",
       "    </tr>\n",
       "    <tr>\n",
       "      <th>1</th>\n",
       "      <td>2.0</td>\n",
       "      <td>1</td>\n",
       "      <td>A</td>\n",
       "    </tr>\n",
       "    <tr>\n",
       "      <th>2</th>\n",
       "      <td>3.0</td>\n",
       "      <td>0</td>\n",
       "      <td>A</td>\n",
       "    </tr>\n",
       "    <tr>\n",
       "      <th>3</th>\n",
       "      <td>4.0</td>\n",
       "      <td>0</td>\n",
       "      <td>A</td>\n",
       "    </tr>\n",
       "    <tr>\n",
       "      <th>4</th>\n",
       "      <td>5.0</td>\n",
       "      <td>1</td>\n",
       "      <td>A</td>\n",
       "    </tr>\n",
       "    <tr>\n",
       "      <th>5</th>\n",
       "      <td>6.0</td>\n",
       "      <td>1</td>\n",
       "      <td>A</td>\n",
       "    </tr>\n",
       "    <tr>\n",
       "      <th>6</th>\n",
       "      <td>6.2</td>\n",
       "      <td>1</td>\n",
       "      <td>A</td>\n",
       "    </tr>\n",
       "    <tr>\n",
       "      <th>7</th>\n",
       "      <td>8.0</td>\n",
       "      <td>0</td>\n",
       "      <td>A</td>\n",
       "    </tr>\n",
       "    <tr>\n",
       "      <th>8</th>\n",
       "      <td>9.0</td>\n",
       "      <td>1</td>\n",
       "      <td>A</td>\n",
       "    </tr>\n",
       "    <tr>\n",
       "      <th>9</th>\n",
       "      <td>10.0</td>\n",
       "      <td>0</td>\n",
       "      <td>A</td>\n",
       "    </tr>\n",
       "  </tbody>\n",
       "</table>\n",
       "</div>"
      ],
      "text/plain": [
       "   Followup  Eventtype Scenario\n",
       "0       1.0          1        A\n",
       "1       2.0          1        A\n",
       "2       3.0          0        A\n",
       "3       4.0          0        A\n",
       "4       5.0          1        A\n",
       "5       6.0          1        A\n",
       "6       6.2          1        A\n",
       "7       8.0          0        A\n",
       "8       9.0          1        A\n",
       "9      10.0          0        A"
      ]
     },
     "execution_count": 6,
     "metadata": {},
     "output_type": "execute_result"
    }
   ],
   "source": [
    "#removing the patient id column\n",
    "patient = patient.drop(['PatientID'],axis=1)\n",
    "patient"
   ]
  },
  {
   "cell_type": "code",
   "execution_count": 7,
   "id": "0accfd7f",
   "metadata": {},
   "outputs": [],
   "source": [
    "from sklearn import preprocessing"
   ]
  },
  {
   "cell_type": "code",
   "execution_count": 8,
   "id": "de132ee8",
   "metadata": {},
   "outputs": [],
   "source": [
    "le = preprocessing.LabelEncoder()\n",
    "patient['Scenario'] = le.fit_transform(patient['Scenario'])"
   ]
  },
  {
   "cell_type": "code",
   "execution_count": 9,
   "id": "b5c6aadb",
   "metadata": {},
   "outputs": [],
   "source": [
    "#followup is refering to time\n",
    "T = patient.Followup"
   ]
  },
  {
   "cell_type": "code",
   "execution_count": 10,
   "id": "e1d75637",
   "metadata": {},
   "outputs": [],
   "source": [
    "#importing kaplanmeier model to fit the survival analytics\n",
    "from lifelines import KaplanMeierFitter"
   ]
  },
  {
   "cell_type": "code",
   "execution_count": 11,
   "id": "d2fc0ef0",
   "metadata": {},
   "outputs": [
    {
     "data": {
      "text/plain": [
       "<lifelines.KaplanMeierFitter:\"KM_estimate\", fitted with 10 total observations, 4 right-censored observations>"
      ]
     },
     "execution_count": 11,
     "metadata": {},
     "output_type": "execute_result"
    }
   ],
   "source": [
    "kmf = KaplanMeierFitter()\n",
    "\n",
    "#fit time and event for eventtype\n",
    "kmf.fit(T,event_observed=patient.Eventtype)"
   ]
  },
  {
   "cell_type": "code",
   "execution_count": 12,
   "id": "88efc32a",
   "metadata": {},
   "outputs": [
    {
     "data": {
      "text/plain": [
       "<AxesSubplot: xlabel='timeline'>"
      ]
     },
     "execution_count": 12,
     "metadata": {},
     "output_type": "execute_result"
    },
    {
     "data": {
      "image/png": "[encoded data removed]",
      "text/plain": [
       "<Figure size 640x480 with 1 Axes>"
      ]
     },
     "metadata": {},
     "output_type": "display_data"
    }
   ],
   "source": [
    "#time line extimation plot\n",
    "kmf.plot()"
   ]
  },
  {
   "cell_type": "code",
   "execution_count": 13,
   "id": "3b437685",
   "metadata": {},
   "outputs": [
    {
     "data": {
      "text/plain": [
       "0    10\n",
       "Name: Scenario, dtype: int64"
      ]
     },
     "execution_count": 13,
     "metadata": {},
     "output_type": "execute_result"
    }
   ],
   "source": [
    "#over multiple groups ; for each group here group is scenario\n",
    "patient.Scenario.value_counts()"
   ]
  },
  {
   "cell_type": "code",
   "execution_count": 21,
   "id": "f9894764",
   "metadata": {},
   "outputs": [
    {
     "data": {
      "text/plain": [
       "<AxesSubplot: xlabel='timeline'>"
      ]
     },
     "execution_count": 21,
     "metadata": {},
     "output_type": "execute_result"
    },
    {
     "data": {
      "image/png": "[encoded data removed]",
      "text/plain": [
       "<Figure size 640x480 with 1 Axes>"
      ]
     },
     "metadata": {},
     "output_type": "display_data"
    }
   ],
   "source": [
    "#applying kaplainmeirfitter model on time and event on scenario '1'\n",
    "kmf.fit(T[patient.Scenario==0], patient.Eventtype[patient.Scenario==0], label=1)\n",
    "ax=kmf.plot()\n",
    "#applying kaplainmeirfitter model on time and event on scenario '0'\n",
    "kmf.fit(T[patient.Scenario==0], patient.Eventtype[patient.Scenario==0], label=0)\n",
    "kmf.plot(ax=ax)"
   ]
  },
  {
   "cell_type": "code",
   "execution_count": null,
   "id": "7f75e937",
   "metadata": {},
   "outputs": [],
   "source": []
  },
  {
   "cell_type": "markdown",
   "id": "ff7f6e2b",
   "metadata": {},
   "source": [
    "# Problem - 2"
   ]
  },
  {
   "cell_type": "markdown",
   "id": "34814d25",
   "metadata": {},
   "source": [
    "### ECG of different age groups of people has been recorded. The survival time in hours after the operation is given and the event type is denoted by 1 (if dead) and 0 (if alive). Perform survival analysis on the dataset given below and provide your insights in the documentation. "
   ]
  },
  {
   "cell_type": "code",
   "execution_count": 22,
   "id": "5dce12aa",
   "metadata": {},
   "outputs": [],
   "source": [
    "import pandas as pd"
   ]
  },
  {
   "cell_type": "code",
   "execution_count": 25,
   "id": "b75816de",
   "metadata": {},
   "outputs": [
    {
     "data": {
      "text/html": [
       "<div>\n",
       "<style scoped>\n",
       "    .dataframe tbody tr th:only-of-type {\n",
       "        vertical-align: middle;\n",
       "    }\n",
       "\n",
       "    .dataframe tbody tr th {\n",
       "        vertical-align: top;\n",
       "    }\n",
       "\n",
       "    .dataframe thead th {\n",
       "        text-align: right;\n",
       "    }\n",
       "</style>\n",
       "<table border=\"1\" class=\"dataframe\">\n",
       "  <thead>\n",
       "    <tr style=\"text-align: right;\">\n",
       "      <th></th>\n",
       "      <th>survival_time_hr</th>\n",
       "      <th>alive</th>\n",
       "      <th>age</th>\n",
       "      <th>pericardialeffusion</th>\n",
       "      <th>fractionalshortening</th>\n",
       "      <th>epss</th>\n",
       "      <th>lvdd</th>\n",
       "      <th>wallmotion-score</th>\n",
       "      <th>wallmotion-index</th>\n",
       "      <th>multi_sensor</th>\n",
       "      <th>name</th>\n",
       "      <th>group</th>\n",
       "    </tr>\n",
       "  </thead>\n",
       "  <tbody>\n",
       "    <tr>\n",
       "      <th>0</th>\n",
       "      <td>11.0</td>\n",
       "      <td>0</td>\n",
       "      <td>71</td>\n",
       "      <td>0</td>\n",
       "      <td>0.260</td>\n",
       "      <td>9.000</td>\n",
       "      <td>4.600</td>\n",
       "      <td>14.0</td>\n",
       "      <td>1.000</td>\n",
       "      <td>1.000</td>\n",
       "      <td>name</td>\n",
       "      <td>1</td>\n",
       "    </tr>\n",
       "    <tr>\n",
       "      <th>1</th>\n",
       "      <td>19.0</td>\n",
       "      <td>0</td>\n",
       "      <td>72</td>\n",
       "      <td>0</td>\n",
       "      <td>0.380</td>\n",
       "      <td>6.000</td>\n",
       "      <td>4.100</td>\n",
       "      <td>14.0</td>\n",
       "      <td>1.700</td>\n",
       "      <td>0.588</td>\n",
       "      <td>name</td>\n",
       "      <td>1</td>\n",
       "    </tr>\n",
       "    <tr>\n",
       "      <th>2</th>\n",
       "      <td>16.0</td>\n",
       "      <td>0</td>\n",
       "      <td>55</td>\n",
       "      <td>0</td>\n",
       "      <td>0.260</td>\n",
       "      <td>4.000</td>\n",
       "      <td>3.420</td>\n",
       "      <td>14.0</td>\n",
       "      <td>1.000</td>\n",
       "      <td>1.000</td>\n",
       "      <td>name</td>\n",
       "      <td>1</td>\n",
       "    </tr>\n",
       "    <tr>\n",
       "      <th>3</th>\n",
       "      <td>57.0</td>\n",
       "      <td>0</td>\n",
       "      <td>60</td>\n",
       "      <td>0</td>\n",
       "      <td>0.253</td>\n",
       "      <td>12.062</td>\n",
       "      <td>4.603</td>\n",
       "      <td>16.0</td>\n",
       "      <td>1.450</td>\n",
       "      <td>0.788</td>\n",
       "      <td>name</td>\n",
       "      <td>1</td>\n",
       "    </tr>\n",
       "    <tr>\n",
       "      <th>4</th>\n",
       "      <td>19.0</td>\n",
       "      <td>1</td>\n",
       "      <td>57</td>\n",
       "      <td>0</td>\n",
       "      <td>0.160</td>\n",
       "      <td>22.000</td>\n",
       "      <td>5.750</td>\n",
       "      <td>18.0</td>\n",
       "      <td>2.250</td>\n",
       "      <td>0.571</td>\n",
       "      <td>name</td>\n",
       "      <td>1</td>\n",
       "    </tr>\n",
       "    <tr>\n",
       "      <th>...</th>\n",
       "      <td>...</td>\n",
       "      <td>...</td>\n",
       "      <td>...</td>\n",
       "      <td>...</td>\n",
       "      <td>...</td>\n",
       "      <td>...</td>\n",
       "      <td>...</td>\n",
       "      <td>...</td>\n",
       "      <td>...</td>\n",
       "      <td>...</td>\n",
       "      <td>...</td>\n",
       "      <td>...</td>\n",
       "    </tr>\n",
       "    <tr>\n",
       "      <th>128</th>\n",
       "      <td>7.5</td>\n",
       "      <td>1</td>\n",
       "      <td>64</td>\n",
       "      <td>0</td>\n",
       "      <td>0.240</td>\n",
       "      <td>12.900</td>\n",
       "      <td>4.720</td>\n",
       "      <td>12.0</td>\n",
       "      <td>1.000</td>\n",
       "      <td>0.857</td>\n",
       "      <td>name</td>\n",
       "      <td>3</td>\n",
       "    </tr>\n",
       "    <tr>\n",
       "      <th>129</th>\n",
       "      <td>41.0</td>\n",
       "      <td>0</td>\n",
       "      <td>64</td>\n",
       "      <td>0</td>\n",
       "      <td>0.280</td>\n",
       "      <td>5.400</td>\n",
       "      <td>5.470</td>\n",
       "      <td>11.0</td>\n",
       "      <td>1.100</td>\n",
       "      <td>0.714</td>\n",
       "      <td>name</td>\n",
       "      <td>3</td>\n",
       "    </tr>\n",
       "    <tr>\n",
       "      <th>130</th>\n",
       "      <td>36.0</td>\n",
       "      <td>0</td>\n",
       "      <td>69</td>\n",
       "      <td>0</td>\n",
       "      <td>0.200</td>\n",
       "      <td>7.000</td>\n",
       "      <td>5.050</td>\n",
       "      <td>14.5</td>\n",
       "      <td>1.210</td>\n",
       "      <td>0.857</td>\n",
       "      <td>name</td>\n",
       "      <td>3</td>\n",
       "    </tr>\n",
       "    <tr>\n",
       "      <th>131</th>\n",
       "      <td>22.0</td>\n",
       "      <td>0</td>\n",
       "      <td>57</td>\n",
       "      <td>0</td>\n",
       "      <td>0.140</td>\n",
       "      <td>16.100</td>\n",
       "      <td>4.360</td>\n",
       "      <td>15.0</td>\n",
       "      <td>1.360</td>\n",
       "      <td>0.786</td>\n",
       "      <td>name</td>\n",
       "      <td>3</td>\n",
       "    </tr>\n",
       "    <tr>\n",
       "      <th>132</th>\n",
       "      <td>20.0</td>\n",
       "      <td>0</td>\n",
       "      <td>62</td>\n",
       "      <td>0</td>\n",
       "      <td>0.150</td>\n",
       "      <td>0.000</td>\n",
       "      <td>4.510</td>\n",
       "      <td>15.5</td>\n",
       "      <td>1.409</td>\n",
       "      <td>0.786</td>\n",
       "      <td>name</td>\n",
       "      <td>3</td>\n",
       "    </tr>\n",
       "  </tbody>\n",
       "</table>\n",
       "<p>133 rows × 12 columns</p>\n",
       "</div>"
      ],
      "text/plain": [
       "     survival_time_hr  alive  age  pericardialeffusion  fractionalshortening  \\\n",
       "0                11.0      0   71                    0                 0.260   \n",
       "1                19.0      0   72                    0                 0.380   \n",
       "2                16.0      0   55                    0                 0.260   \n",
       "3                57.0      0   60                    0                 0.253   \n",
       "4                19.0      1   57                    0                 0.160   \n",
       "..                ...    ...  ...                  ...                   ...   \n",
       "128               7.5      1   64                    0                 0.240   \n",
       "129              41.0      0   64                    0                 0.280   \n",
       "130              36.0      0   69                    0                 0.200   \n",
       "131              22.0      0   57                    0                 0.140   \n",
       "132              20.0      0   62                    0                 0.150   \n",
       "\n",
       "       epss   lvdd  wallmotion-score  wallmotion-index  multi_sensor  name  \\\n",
       "0     9.000  4.600              14.0             1.000         1.000  name   \n",
       "1     6.000  4.100              14.0             1.700         0.588  name   \n",
       "2     4.000  3.420              14.0             1.000         1.000  name   \n",
       "3    12.062  4.603              16.0             1.450         0.788  name   \n",
       "4    22.000  5.750              18.0             2.250         0.571  name   \n",
       "..      ...    ...               ...               ...           ...   ...   \n",
       "128  12.900  4.720              12.0             1.000         0.857  name   \n",
       "129   5.400  5.470              11.0             1.100         0.714  name   \n",
       "130   7.000  5.050              14.5             1.210         0.857  name   \n",
       "131  16.100  4.360              15.0             1.360         0.786  name   \n",
       "132   0.000  4.510              15.5             1.409         0.786  name   \n",
       "\n",
       "     group  \n",
       "0        1  \n",
       "1        1  \n",
       "2        1  \n",
       "3        1  \n",
       "4        1  \n",
       "..     ...  \n",
       "128      3  \n",
       "129      3  \n",
       "130      3  \n",
       "131      3  \n",
       "132      3  \n",
       "\n",
       "[133 rows x 12 columns]"
      ]
     },
     "execution_count": 25,
     "metadata": {},
     "output_type": "execute_result"
    }
   ],
   "source": [
    "#reading the data into python\n",
    "ecg = pd.read_excel(r\"D:\\360 Data Science 360DigiTMG\\Day38-Survival Analytics\\Datasets_Survival Analytics\\ECG_Surv.xlsx\")\n",
    "ecg"
   ]
  },
  {
   "cell_type": "code",
   "execution_count": 26,
   "id": "d89cf418",
   "metadata": {},
   "outputs": [
    {
     "data": {
      "text/html": [
       "<div>\n",
       "<style scoped>\n",
       "    .dataframe tbody tr th:only-of-type {\n",
       "        vertical-align: middle;\n",
       "    }\n",
       "\n",
       "    .dataframe tbody tr th {\n",
       "        vertical-align: top;\n",
       "    }\n",
       "\n",
       "    .dataframe thead th {\n",
       "        text-align: right;\n",
       "    }\n",
       "</style>\n",
       "<table border=\"1\" class=\"dataframe\">\n",
       "  <thead>\n",
       "    <tr style=\"text-align: right;\">\n",
       "      <th></th>\n",
       "      <th>survival_time_hr</th>\n",
       "      <th>alive</th>\n",
       "      <th>age</th>\n",
       "      <th>pericardialeffusion</th>\n",
       "      <th>fractionalshortening</th>\n",
       "      <th>epss</th>\n",
       "      <th>lvdd</th>\n",
       "      <th>wallmotion-score</th>\n",
       "      <th>wallmotion-index</th>\n",
       "      <th>multi_sensor</th>\n",
       "      <th>group</th>\n",
       "    </tr>\n",
       "  </thead>\n",
       "  <tbody>\n",
       "    <tr>\n",
       "      <th>count</th>\n",
       "      <td>133.000000</td>\n",
       "      <td>133.000000</td>\n",
       "      <td>133.000000</td>\n",
       "      <td>133.000000</td>\n",
       "      <td>133.000000</td>\n",
       "      <td>117.000000</td>\n",
       "      <td>121.000000</td>\n",
       "      <td>128.000000</td>\n",
       "      <td>130.00000</td>\n",
       "      <td>129.000000</td>\n",
       "      <td>133.000000</td>\n",
       "    </tr>\n",
       "    <tr>\n",
       "      <th>mean</th>\n",
       "      <td>21.795338</td>\n",
       "      <td>0.383459</td>\n",
       "      <td>62.413534</td>\n",
       "      <td>0.187970</td>\n",
       "      <td>0.228534</td>\n",
       "      <td>12.164769</td>\n",
       "      <td>4.763157</td>\n",
       "      <td>14.438125</td>\n",
       "      <td>1.37800</td>\n",
       "      <td>0.786202</td>\n",
       "      <td>1.984962</td>\n",
       "    </tr>\n",
       "    <tr>\n",
       "      <th>std</th>\n",
       "      <td>15.885313</td>\n",
       "      <td>0.488067</td>\n",
       "      <td>9.335601</td>\n",
       "      <td>0.392165</td>\n",
       "      <td>0.135864</td>\n",
       "      <td>7.370159</td>\n",
       "      <td>0.810013</td>\n",
       "      <td>5.018566</td>\n",
       "      <td>0.45185</td>\n",
       "      <td>0.225661</td>\n",
       "      <td>0.590133</td>\n",
       "    </tr>\n",
       "    <tr>\n",
       "      <th>min</th>\n",
       "      <td>0.030000</td>\n",
       "      <td>0.000000</td>\n",
       "      <td>23.000000</td>\n",
       "      <td>0.000000</td>\n",
       "      <td>0.010000</td>\n",
       "      <td>0.000000</td>\n",
       "      <td>2.320000</td>\n",
       "      <td>2.000000</td>\n",
       "      <td>1.00000</td>\n",
       "      <td>0.140000</td>\n",
       "      <td>1.000000</td>\n",
       "    </tr>\n",
       "    <tr>\n",
       "      <th>25%</th>\n",
       "      <td>6.000000</td>\n",
       "      <td>0.000000</td>\n",
       "      <td>57.000000</td>\n",
       "      <td>0.000000</td>\n",
       "      <td>0.150000</td>\n",
       "      <td>7.000000</td>\n",
       "      <td>4.230000</td>\n",
       "      <td>11.000000</td>\n",
       "      <td>1.00000</td>\n",
       "      <td>0.714000</td>\n",
       "      <td>2.000000</td>\n",
       "    </tr>\n",
       "    <tr>\n",
       "      <th>50%</th>\n",
       "      <td>22.000000</td>\n",
       "      <td>0.000000</td>\n",
       "      <td>62.000000</td>\n",
       "      <td>0.000000</td>\n",
       "      <td>0.217000</td>\n",
       "      <td>11.000000</td>\n",
       "      <td>4.650000</td>\n",
       "      <td>14.000000</td>\n",
       "      <td>1.21600</td>\n",
       "      <td>0.786000</td>\n",
       "      <td>2.000000</td>\n",
       "    </tr>\n",
       "    <tr>\n",
       "      <th>75%</th>\n",
       "      <td>33.000000</td>\n",
       "      <td>1.000000</td>\n",
       "      <td>68.000000</td>\n",
       "      <td>0.000000</td>\n",
       "      <td>0.280000</td>\n",
       "      <td>16.100000</td>\n",
       "      <td>5.300000</td>\n",
       "      <td>16.500000</td>\n",
       "      <td>1.50750</td>\n",
       "      <td>0.857000</td>\n",
       "      <td>2.000000</td>\n",
       "    </tr>\n",
       "    <tr>\n",
       "      <th>max</th>\n",
       "      <td>57.000000</td>\n",
       "      <td>1.000000</td>\n",
       "      <td>86.000000</td>\n",
       "      <td>1.000000</td>\n",
       "      <td>0.840000</td>\n",
       "      <td>40.000000</td>\n",
       "      <td>6.780000</td>\n",
       "      <td>39.000000</td>\n",
       "      <td>3.00000</td>\n",
       "      <td>2.000000</td>\n",
       "      <td>3.000000</td>\n",
       "    </tr>\n",
       "  </tbody>\n",
       "</table>\n",
       "</div>"
      ],
      "text/plain": [
       "       survival_time_hr       alive         age  pericardialeffusion  \\\n",
       "count        133.000000  133.000000  133.000000           133.000000   \n",
       "mean          21.795338    0.383459   62.413534             0.187970   \n",
       "std           15.885313    0.488067    9.335601             0.392165   \n",
       "min            0.030000    0.000000   23.000000             0.000000   \n",
       "25%            6.000000    0.000000   57.000000             0.000000   \n",
       "50%           22.000000    0.000000   62.000000             0.000000   \n",
       "75%           33.000000    1.000000   68.000000             0.000000   \n",
       "max           57.000000    1.000000   86.000000             1.000000   \n",
       "\n",
       "       fractionalshortening        epss        lvdd  wallmotion-score  \\\n",
       "count            133.000000  117.000000  121.000000        128.000000   \n",
       "mean               0.228534   12.164769    4.763157         14.438125   \n",
       "std                0.135864    7.370159    0.810013          5.018566   \n",
       "min                0.010000    0.000000    2.320000          2.000000   \n",
       "25%                0.150000    7.000000    4.230000         11.000000   \n",
       "50%                0.217000   11.000000    4.650000         14.000000   \n",
       "75%                0.280000   16.100000    5.300000         16.500000   \n",
       "max                0.840000   40.000000    6.780000         39.000000   \n",
       "\n",
       "       wallmotion-index  multi_sensor       group  \n",
       "count         130.00000    129.000000  133.000000  \n",
       "mean            1.37800      0.786202    1.984962  \n",
       "std             0.45185      0.225661    0.590133  \n",
       "min             1.00000      0.140000    1.000000  \n",
       "25%             1.00000      0.714000    2.000000  \n",
       "50%             1.21600      0.786000    2.000000  \n",
       "75%             1.50750      0.857000    2.000000  \n",
       "max             3.00000      2.000000    3.000000  "
      ]
     },
     "execution_count": 26,
     "metadata": {},
     "output_type": "execute_result"
    }
   ],
   "source": [
    "ecg.describe()"
   ]
  },
  {
   "cell_type": "code",
   "execution_count": 28,
   "id": "d867291b",
   "metadata": {},
   "outputs": [
    {
     "data": {
      "text/html": [
       "<div>\n",
       "<style scoped>\n",
       "    .dataframe tbody tr th:only-of-type {\n",
       "        vertical-align: middle;\n",
       "    }\n",
       "\n",
       "    .dataframe tbody tr th {\n",
       "        vertical-align: top;\n",
       "    }\n",
       "\n",
       "    .dataframe thead th {\n",
       "        text-align: right;\n",
       "    }\n",
       "</style>\n",
       "<table border=\"1\" class=\"dataframe\">\n",
       "  <thead>\n",
       "    <tr style=\"text-align: right;\">\n",
       "      <th></th>\n",
       "      <th>survival_time_hr</th>\n",
       "      <th>alive</th>\n",
       "      <th>group</th>\n",
       "    </tr>\n",
       "  </thead>\n",
       "  <tbody>\n",
       "    <tr>\n",
       "      <th>0</th>\n",
       "      <td>11.0</td>\n",
       "      <td>0</td>\n",
       "      <td>1</td>\n",
       "    </tr>\n",
       "    <tr>\n",
       "      <th>1</th>\n",
       "      <td>19.0</td>\n",
       "      <td>0</td>\n",
       "      <td>1</td>\n",
       "    </tr>\n",
       "    <tr>\n",
       "      <th>2</th>\n",
       "      <td>16.0</td>\n",
       "      <td>0</td>\n",
       "      <td>1</td>\n",
       "    </tr>\n",
       "    <tr>\n",
       "      <th>3</th>\n",
       "      <td>57.0</td>\n",
       "      <td>0</td>\n",
       "      <td>1</td>\n",
       "    </tr>\n",
       "    <tr>\n",
       "      <th>4</th>\n",
       "      <td>19.0</td>\n",
       "      <td>1</td>\n",
       "      <td>1</td>\n",
       "    </tr>\n",
       "    <tr>\n",
       "      <th>...</th>\n",
       "      <td>...</td>\n",
       "      <td>...</td>\n",
       "      <td>...</td>\n",
       "    </tr>\n",
       "    <tr>\n",
       "      <th>128</th>\n",
       "      <td>7.5</td>\n",
       "      <td>1</td>\n",
       "      <td>3</td>\n",
       "    </tr>\n",
       "    <tr>\n",
       "      <th>129</th>\n",
       "      <td>41.0</td>\n",
       "      <td>0</td>\n",
       "      <td>3</td>\n",
       "    </tr>\n",
       "    <tr>\n",
       "      <th>130</th>\n",
       "      <td>36.0</td>\n",
       "      <td>0</td>\n",
       "      <td>3</td>\n",
       "    </tr>\n",
       "    <tr>\n",
       "      <th>131</th>\n",
       "      <td>22.0</td>\n",
       "      <td>0</td>\n",
       "      <td>3</td>\n",
       "    </tr>\n",
       "    <tr>\n",
       "      <th>132</th>\n",
       "      <td>20.0</td>\n",
       "      <td>0</td>\n",
       "      <td>3</td>\n",
       "    </tr>\n",
       "  </tbody>\n",
       "</table>\n",
       "<p>133 rows × 3 columns</p>\n",
       "</div>"
      ],
      "text/plain": [
       "     survival_time_hr  alive  group\n",
       "0                11.0      0      1\n",
       "1                19.0      0      1\n",
       "2                16.0      0      1\n",
       "3                57.0      0      1\n",
       "4                19.0      1      1\n",
       "..                ...    ...    ...\n",
       "128               7.5      1      3\n",
       "129              41.0      0      3\n",
       "130              36.0      0      3\n",
       "131              22.0      0      3\n",
       "132              20.0      0      3\n",
       "\n",
       "[133 rows x 3 columns]"
      ]
     },
     "execution_count": 28,
     "metadata": {},
     "output_type": "execute_result"
    }
   ],
   "source": [
    "#eda\n",
    "#selecting required columns\n",
    "ecg =ecg[['survival_time_hr','alive','group']]\n",
    "ecg"
   ]
  },
  {
   "cell_type": "code",
   "execution_count": 29,
   "id": "977849ac",
   "metadata": {},
   "outputs": [],
   "source": [
    "#survival_time_hr is refering to time\n",
    "T = ecg.survival_time_hr"
   ]
  },
  {
   "cell_type": "code",
   "execution_count": 32,
   "id": "5cc3db64",
   "metadata": {},
   "outputs": [],
   "source": [
    "#initializing the model\n",
    "from lifelines import KaplanMeierFitter\n",
    "kmf = KaplanMeierFitter()"
   ]
  },
  {
   "cell_type": "code",
   "execution_count": 33,
   "id": "17a51892",
   "metadata": {},
   "outputs": [
    {
     "data": {
      "text/plain": [
       "<lifelines.KaplanMeierFitter:\"KM_estimate\", fitted with 133 total observations, 82 right-censored observations>"
      ]
     },
     "execution_count": 33,
     "metadata": {},
     "output_type": "execute_result"
    }
   ],
   "source": [
    "kmf.fit(T, event_observed=ecg.alive )"
   ]
  },
  {
   "cell_type": "code",
   "execution_count": 34,
   "id": "c11783a5",
   "metadata": {},
   "outputs": [
    {
     "data": {
      "text/plain": [
       "<AxesSubplot: xlabel='timeline'>"
      ]
     },
     "execution_count": 34,
     "metadata": {},
     "output_type": "execute_result"
    },
    {
     "data": {
      "image/png": "[encoded data removed]",
      "text/plain": [
       "<Figure size 640x480 with 1 Axes>"
      ]
     },
     "metadata": {},
     "output_type": "display_data"
    }
   ],
   "source": [
    "#time line estimation plot\n",
    "kmf.plot()"
   ]
  },
  {
   "cell_type": "code",
   "execution_count": 35,
   "id": "88aff41c",
   "metadata": {},
   "outputs": [
    {
     "data": {
      "text/plain": [
       "2    87\n",
       "1    24\n",
       "3    22\n",
       "Name: group, dtype: int64"
      ]
     },
     "execution_count": 35,
     "metadata": {},
     "output_type": "execute_result"
    }
   ],
   "source": [
    "# Over Multiple groups # For each group, here group is group\n",
    "ecg.group.value_counts()"
   ]
  },
  {
   "cell_type": "code",
   "execution_count": 41,
   "id": "88562472",
   "metadata": {},
   "outputs": [
    {
     "data": {
      "text/plain": [
       "<AxesSubplot: xlabel='timeline'>"
      ]
     },
     "execution_count": 41,
     "metadata": {},
     "output_type": "execute_result"
    },
    {
     "data": {
      "image/png": "[encoded data removed]",
      "text/plain": [
       "<Figure size 640x480 with 1 Axes>"
      ]
     },
     "metadata": {},
     "output_type": "display_data"
    }
   ],
   "source": [
    "#applying kaplanmeier fitter model in time and event for group 1\n",
    "kmf.fit(T[ecg.group == 1], ecg.alive[ecg.group == 1],label= 1)\n",
    "ax = kmf.plot()\n",
    "#applying kaplanmeier fitter model in time and event for group 0\n",
    "kmf.fit(T[ecg.group == 1], ecg.alive[ecg.group == 1],label= 0)\n",
    "kmf.plot(ax=ax)"
   ]
  },
  {
   "cell_type": "code",
   "execution_count": null,
   "id": "33d95f97",
   "metadata": {},
   "outputs": [],
   "source": []
  },
  {
   "cell_type": "code",
   "execution_count": null,
   "id": "ac45e111",
   "metadata": {},
   "outputs": [],
   "source": []
  }
 ],
 "metadata": {
  "kernelspec": {
   "display_name": "Python 3 (ipykernel)",
   "language": "python",
   "name": "python3"
  },
  "language_info": {
   "codemirror_mode": {
    "name": "ipython",
    "version": 3
   },
   "file_extension": ".py",
   "mimetype": "text/x-python",
   "name": "python",
   "nbconvert_exporter": "python",
   "pygments_lexer": "ipython3",
   "version": "3.9.13"
  }
 },
 "nbformat": 4,
 "nbformat_minor": 5
}
